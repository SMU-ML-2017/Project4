{
 "cells": [
  {
   "cell_type": "markdown",
   "metadata": {},
   "source": [
    "# Machine Learning lab 4: extending logistic regression\n",
    "## Jake Rowland and Paul Herz\n",
    "2017-10-01\n",
    "\n",
    "## 1. Introduction\n",
    "\n",
    "TODO\n",
    "\n",
    "### 1.1 Background\n",
    "\n",
    "TODO\n",
    "\n",
    "### 1.2 Business Case\n",
    "\n",
    "TODO\n",
    "\n",
    "### 1.3 Serviceability\n",
    "\n",
    "TODO\n",
    "\n",
    "## 2. The dataset: preprocessing and review\n",
    "\n",
    "### 2.1 Dataset preparation\n",
    "\n",
    "TODO\n",
    "\n",
    "### 2.2 Data quality\n",
    "\n",
    "TODO\n",
    "\n",
    "## 3. Something\n",
    "\n"
   ]
  },
  {
   "cell_type": "code",
   "execution_count": null,
   "metadata": {},
   "outputs": [],
   "source": []
  }
 ],
 "metadata": {
  "kernelspec": {
   "display_name": "Python 3",
   "language": "python",
   "name": "python3"
  },
  "language_info": {
   "codemirror_mode": {
    "name": "ipython",
    "version": 3
   },
   "file_extension": ".py",
   "mimetype": "text/x-python",
   "name": "python",
   "nbconvert_exporter": "python",
   "pygments_lexer": "ipython3",
   "version": "3.6.2"
  }
 },
 "nbformat": 4,
 "nbformat_minor": 2
}
